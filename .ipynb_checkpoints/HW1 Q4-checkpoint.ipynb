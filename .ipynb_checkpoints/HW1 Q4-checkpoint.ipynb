{
 "cells": [
  {
   "cell_type": "markdown",
   "metadata": {},
   "source": [
    "# MIE 1612 HW 1 Q4\n",
    "\n",
    "## Part (b)"
   ]
  },
  {
   "cell_type": "code",
   "execution_count": 1,
   "metadata": {},
   "outputs": [],
   "source": [
    "import scipy.stats\n",
    "import numpy as np\n",
    "import math\n",
    "import matplotlib.pyplot as plt\n",
    "import pandas as pd"
   ]
  },
  {
   "cell_type": "code",
   "execution_count": 2,
   "metadata": {},
   "outputs": [],
   "source": [
    "#parameters\n",
    "\n",
    "p1 = 75\n",
    "p2 = 50\n",
    "T = 4"
   ]
  },
  {
   "cell_type": "code",
   "execution_count": 3,
   "metadata": {},
   "outputs": [],
   "source": [
    "#utility function\n",
    "\n",
    "def calc_utility(x1, x2, t1, t2):\n",
    "    ot = max(0, x1*t1+x2*t2-T)\n",
    "    return x1*p1 + x2*p2 + ot ** (-np.sin(abs(ot*t1))) - abs(ot*t2) - 1"
   ]
  },
  {
   "cell_type": "code",
   "execution_count": 4,
   "metadata": {},
   "outputs": [],
   "source": [
    "#generate random variates for t1 and t2\n",
    "\n",
    "mu = 3\n",
    "sig = 2\n",
    "lb = 2\n",
    "ub = 5\n",
    "\n",
    "a, b = (lb-mu)/sig, (ub-mu)/sig\n",
    "t1_vec = scipy.stats.truncnorm.rvs(a=a, b=b, loc=mu, scale=sig, size=15000, random_state=1612)"
   ]
  },
  {
   "cell_type": "code",
   "execution_count": 5,
   "metadata": {},
   "outputs": [
    {
     "data": {
      "text/plain": [
       "(array([1543., 1576., 1675., 1698., 1763., 1572., 1533., 1331., 1260.,\n",
       "        1049.]),\n",
       " array([2.00001558, 2.2999042 , 2.59979282, 2.89968145, 3.19957007,\n",
       "        3.49945869, 3.79934732, 4.09923594, 4.39912456, 4.69901319,\n",
       "        4.99890181]),\n",
       " <a list of 10 Patch objects>)"
      ]
     },
     "execution_count": 5,
     "metadata": {},
     "output_type": "execute_result"
    },
    {
     "data": {
      "image/png": "[encoded data removed]",
      "text/plain": [
       "<Figure size 432x288 with 1 Axes>"
      ]
     },
     "metadata": {
      "needs_background": "light"
     },
     "output_type": "display_data"
    }
   ],
   "source": [
    "plt.hist(t1_vec)"
   ]
  },
  {
   "cell_type": "code",
   "execution_count": 6,
   "metadata": {},
   "outputs": [],
   "source": [
    "t2_vec = scipy.stats.poisson.rvs(mu=8, size=15000, random_state=1612)"
   ]
  },
  {
   "cell_type": "code",
   "execution_count": 7,
   "metadata": {},
   "outputs": [
    {
     "data": {
      "text/plain": [
       "(array([ 184., 1310., 3172., 4151., 3330., 2300.,  412.,  115.,   18.,\n",
       "           8.]),\n",
       " array([ 0. ,  2.2,  4.4,  6.6,  8.8, 11. , 13.2, 15.4, 17.6, 19.8, 22. ]),\n",
       " <a list of 10 Patch objects>)"
      ]
     },
     "execution_count": 7,
     "metadata": {},
     "output_type": "execute_result"
    },
    {
     "data": {
      "image/png": "[encoded data removed]",
      "text/plain": [
       "<Figure size 432x288 with 1 Axes>"
      ]
     },
     "metadata": {
      "needs_background": "light"
     },
     "output_type": "display_data"
    }
   ],
   "source": [
    "plt.hist(t2_vec)"
   ]
  },
  {
   "cell_type": "code",
   "execution_count": 8,
   "metadata": {},
   "outputs": [],
   "source": [
    "utilities = [calc_utility(1,1,t1_vec[i],t2_vec[i]) for i in range(len(t1_vec))]"
   ]
  },
  {
   "cell_type": "code",
   "execution_count": 9,
   "metadata": {},
   "outputs": [
    {
     "data": {
      "text/plain": [
       "58.25925792270619"
      ]
     },
     "execution_count": 9,
     "metadata": {},
     "output_type": "execute_result"
    }
   ],
   "source": [
    "from statistics import mean\n",
    "mean(utilities)"
   ]
  },
  {
   "cell_type": "markdown",
   "metadata": {},
   "source": [
    "The expected utility is about 58.3 for the candidate solution (x1, x2) = (1, 1)"
   ]
  },
  {
   "cell_type": "markdown",
   "metadata": {},
   "source": [
    "## Part (c): find the optimal solution by enumerating all feasible solutions."
   ]
  },
  {
   "cell_type": "code",
   "execution_count": 10,
   "metadata": {},
   "outputs": [
    {
     "data": {
      "text/plain": [
       "74.22000320601803"
      ]
     },
     "execution_count": 10,
     "metadata": {},
     "output_type": "execute_result"
    }
   ],
   "source": [
    "# (x1, x2) = (1, 0)\n",
    "utilities_10 = [calc_utility(1,0,t1_vec[i],t2_vec[i]) for i in range(len(t1_vec))]\n",
    "mean(utilities_10)"
   ]
  },
  {
   "cell_type": "code",
   "execution_count": 11,
   "metadata": {},
   "outputs": [
    {
     "data": {
      "text/plain": [
       "9.849442448902247"
      ]
     },
     "execution_count": 11,
     "metadata": {},
     "output_type": "execute_result"
    }
   ],
   "source": [
    "# (x1, x2) = (0, 1)\n",
    "utilities_01 = [calc_utility(0,1,t1_vec[i],t2_vec[i]) for i in range(len(t1_vec))]\n",
    "mean(utilities_01)"
   ]
  },
  {
   "cell_type": "code",
   "execution_count": 12,
   "metadata": {},
   "outputs": [
    {
     "data": {
      "text/plain": [
       "0.0"
      ]
     },
     "execution_count": 12,
     "metadata": {},
     "output_type": "execute_result"
    }
   ],
   "source": [
    "# (x1, x2) = (0, 0)\n",
    "utilities_00 = [calc_utility(0,0,t1_vec[i],t2_vec[i]) for i in range(len(t1_vec))]\n",
    "mean(utilities_00)"
   ]
  },
  {
   "cell_type": "markdown",
   "metadata": {},
   "source": [
    "Since the solution (x1, x2) = (1, 0) produced the highest expected utility among all feasible solutions, it is the optimal solution."
   ]
  },
  {
   "cell_type": "code",
   "execution_count": null,
   "metadata": {},
   "outputs": [],
   "source": []
  }
 ],
 "metadata": {
  "kernelspec": {
   "display_name": "Python 3",
   "language": "python",
   "name": "python3"
  },
  "language_info": {
   "codemirror_mode": {
    "name": "ipython",
    "version": 3
   },
   "file_extension": ".py",
   "mimetype": "text/x-python",
   "name": "python",
   "nbconvert_exporter": "python",
   "pygments_lexer": "ipython3",
   "version": "3.8.3"
  }
 },
 "nbformat": 4,
 "nbformat_minor": 4
}
